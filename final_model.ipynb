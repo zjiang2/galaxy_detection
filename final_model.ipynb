{
  "nbformat": 4,
  "nbformat_minor": 0,
  "metadata": {
    "accelerator": "GPU",
    "colab": {
      "name": "hw11.ipynb",
      "provenance": [],
      "collapsed_sections": [
        "TmrQrYb1TK87",
        "ZMzFpxCmTK87"
      ]
    },
    "kernelspec": {
      "display_name": "Python 3",
      "language": "python",
      "name": "python3"
    },
    "language_info": {
      "codemirror_mode": {
        "name": "ipython",
        "version": 3
      },
      "file_extension": ".py",
      "mimetype": "text/x-python",
      "name": "python",
      "nbconvert_exporter": "python",
      "pygments_lexer": "ipython3",
      "version": "3.8.5"
    },
    "latex_envs": {
      "LaTeX_envs_menu_present": true,
      "autoclose": false,
      "autocomplete": true,
      "bibliofile": "biblio.bib",
      "cite_by": "apalike",
      "current_citInitial": 1,
      "eqLabelWithNumbers": true,
      "eqNumInitial": 1,
      "hotkeys": {
        "equation": "meta-shift-y"
      },
      "labels_anchors": false,
      "latex_user_defs": false,
      "report_style_numbering": false,
      "user_envs_cfg": false
    },
    "toc": {
      "base_numbering": 1,
      "nav_menu": {},
      "number_sections": false,
      "sideBar": true,
      "skip_h1_title": false,
      "title_cell": "Table of Contents",
      "title_sidebar": "Contents",
      "toc_cell": false,
      "toc_position": {
        "height": "calc(100% - 180px)",
        "left": "10px",
        "top": "150px",
        "width": "191.875px"
      },
      "toc_section_display": true,
      "toc_window_display": true
    }
  },
  "cells": [
    {
      "cell_type": "markdown",
      "metadata": {
        "id": "3loWMlaqTK86"
      },
      "source": [
        "# Homework 11: Galaxy Detection Challenge (40 points)"
      ]
    },
    {
      "cell_type": "markdown",
      "metadata": {
        "id": "1VnfE2LJTK87"
      },
      "source": [
        "name: Josh Jiang\n",
        "\n",
        "email: zhuoxunj@umich.edu\n"
      ]
    },
    {
      "cell_type": "markdown",
      "metadata": {
        "id": "VZ1qv99ZTK87"
      },
      "source": [
        "## Collaboration Disclosure\n",
        "\n",
        "In the cell below, please list *everyone* with whom you discussed any of the homework problems, excluding only the GSIs and the course instructor. \n",
        "\n",
        "If you did not discuss the homework with anyone else, write __\"I did not discuss this homework with anyone.\"__\n",
        "\n",
        "Even if you discuss questions with other, the code you submit must be only yours. All work is checked with the [MOSS plagiarism detector](https://theory.stanford.edu/~aiken/moss/).)"
      ]
    },
    {
      "cell_type": "markdown",
      "metadata": {
        "id": "ayZ-N0IcTK87"
      },
      "source": [
        "I did not discuss this homework with anyone."
      ]
    },
    {
      "cell_type": "markdown",
      "metadata": {
        "id": "TmrQrYb1TK87"
      },
      "source": [
        "## Introduction\n",
        "\n",
        "For this homework, we are hosting a kaggle competition! We hope that you enjoy this opportunity to learn more about machine learning by tackling a real-world dataset and problem. Please take a look at the kaggle page of this competition https://www.kaggle.com/c/galaxy-detection-challenge. In kaggle you can find a leaderboard displaying how the class is doing in the public version of the test set results. \n",
        "\n",
        "This problem set is designed to be more __open-ended__, you should feel free to experiment with different algorithms or strategies to solve this challenge. We provide a basic implementation using a single layer feedforward neural network, you should feel free to experiment with other architectures and approaches. In the following we provide a non-exhaustive list. \n",
        "\n",
        "### Neural network architecture\n",
        "\n",
        "Without changing the type of neural network, here are some changes you can try:\n",
        "\n",
        "- changing the number of layers\n",
        "- changing the activation function(s) (logistic sigmoid, tanh, relu, leaky relu, ...)\n",
        "- modifying the # of hidden layers\n",
        "- changing the # units in the hidden layer(s)\n",
        "\n",
        "Other types of layers that might be useful include: \n",
        "\n",
        "- using drouput layers\n",
        "- adding pooling layers\n",
        "- adding batch-norm layers\n",
        "- adding convolutional layers (since we are using images)\n",
        "\n",
        "### Training\n",
        "\n",
        "- running for more epochs (be careful to avoid over-fitting!)\n",
        "- changing the minibatch size\n",
        "- use data augmentation methods. \n",
        "- early stopping (choosing the model that does the best in a particular epoch even if you train it for longer)\n",
        "\n",
        "\n",
        "### Optimizer \n",
        "\n",
        "- modifying the learning rate, weight_decay, or other parameters of the optimizers. \n",
        "- Try other optimizers from the `torch.optim` module. \n",
        "\n",
        "### Other approaches\n",
        "\n",
        "- using ResNet style architecture \n",
        "- Divide the images into smaller tiles and then combine the results (why is this a good idea?) \n",
        "- Multi-step approaches, i.e. first employ one algorithm/network and then refine the result via another one.\n",
        "- using the scipy peak-finding function. \n",
        "- normalizing the images (like in the baseline model below) \n",
        "- other preprocessing steps or [transformations](https://pytorch.org/docs/stable/torchvision/transforms.html) on the images.\n",
        "\n",
        "__IMPORTANT:__ If you do borrow ideas from external sources to design your algorithm, please reference them explicitly in the **Conclusion** section at the end of this notebook."
      ]
    },
    {
      "cell_type": "markdown",
      "metadata": {
        "id": "ZMzFpxCmTK87"
      },
      "source": [
        "## Deliverables\n",
        "\n",
        "- Submit this jupyter notebook to Canvas as usual.\n",
        "\n",
        "- A `.csv` file with the output of your algorithm on the `test.pt` images (submitted to kaggle).\n",
        "\n",
        "**Hint:** At the end of this notebook, there is a function `output_to_csv` that you can use to create a `.csv` file that can be uploaded to kaggle for evaluation. \n",
        "\n",
        "## Submission to kaggle\n",
        "\n",
        "You will need to access kaggle with the following link: \n",
        "\n",
        "https://www.kaggle.com/t/d88b1d95728848fe8d082fff446801fe\n",
        "\n",
        "and create an account. If possible, please use your __umich email address__ and real name to register so that we can easily match your submission to your Canvas grade.\n",
        "\n",
        "## Grading\n",
        "\n",
        "Since this final project is open-ended and encouraged to be of a exploratory nature, we are not giving explicit accuracy thresholds that you must aim for to get a specific grade. Instead, you are encouraged to do your best in the time available and we will adjust the grading rubric depending on the submissions we get. We will carefully take into account effort and the results of your exploration for our grading - feel free to go into detail in the **Conclusion** section of this homework below. "
      ]
    },
    {
      "cell_type": "markdown",
      "metadata": {
        "id": "B116LWI5TK87"
      },
      "source": [
        "## Setup"
      ]
    },
    {
      "cell_type": "code",
      "metadata": {
        "colab": {
          "base_uri": "https://localhost:8080/"
        },
        "id": "2JzMepdjTN5U",
        "outputId": "e837adfd-8d0e-486a-8cbd-abb62275b9f8"
      },
      "source": [
        "from google.colab import drive\n",
        "drive.mount('/ME')"
      ],
      "execution_count": 3,
      "outputs": [
        {
          "output_type": "stream",
          "text": [
            "Mounted at /ME\n"
          ],
          "name": "stdout"
        }
      ]
    },
    {
      "cell_type": "code",
      "metadata": {
        "colab": {
          "base_uri": "https://localhost:8080/"
        },
        "id": "1GWBrxOjs1En",
        "outputId": "c1c4aecb-3702-4a4b-e241-0f26a5c519b5"
      },
      "source": [
        "!pip install kornia"
      ],
      "execution_count": 4,
      "outputs": [
        {
          "output_type": "stream",
          "text": [
            "Collecting kornia\n",
            "\u001b[?25l  Downloading https://files.pythonhosted.org/packages/da/f4/a47657770c423ad1e1d41295fd030442cc7e4987fe05936b0423b9d982d5/kornia-0.5.2-py2.py3-none-any.whl (279kB)\n",
            "\r\u001b[K     |█▏                              | 10kB 18.8MB/s eta 0:00:01\r\u001b[K     |██▍                             | 20kB 16.3MB/s eta 0:00:01\r\u001b[K     |███▌                            | 30kB 13.3MB/s eta 0:00:01\r\u001b[K     |████▊                           | 40kB 12.5MB/s eta 0:00:01\r\u001b[K     |█████▉                          | 51kB 6.8MB/s eta 0:00:01\r\u001b[K     |███████                         | 61kB 6.7MB/s eta 0:00:01\r\u001b[K     |████████▏                       | 71kB 7.6MB/s eta 0:00:01\r\u001b[K     |█████████▍                      | 81kB 8.5MB/s eta 0:00:01\r\u001b[K     |██████████▋                     | 92kB 8.0MB/s eta 0:00:01\r\u001b[K     |███████████▊                    | 102kB 6.8MB/s eta 0:00:01\r\u001b[K     |█████████████                   | 112kB 6.8MB/s eta 0:00:01\r\u001b[K     |██████████████                  | 122kB 6.8MB/s eta 0:00:01\r\u001b[K     |███████████████▎                | 133kB 6.8MB/s eta 0:00:01\r\u001b[K     |████████████████▍               | 143kB 6.8MB/s eta 0:00:01\r\u001b[K     |█████████████████▋              | 153kB 6.8MB/s eta 0:00:01\r\u001b[K     |██████████████████▉             | 163kB 6.8MB/s eta 0:00:01\r\u001b[K     |████████████████████            | 174kB 6.8MB/s eta 0:00:01\r\u001b[K     |█████████████████████▏          | 184kB 6.8MB/s eta 0:00:01\r\u001b[K     |██████████████████████▎         | 194kB 6.8MB/s eta 0:00:01\r\u001b[K     |███████████████████████▌        | 204kB 6.8MB/s eta 0:00:01\r\u001b[K     |████████████████████████▋       | 215kB 6.8MB/s eta 0:00:01\r\u001b[K     |█████████████████████████▉      | 225kB 6.8MB/s eta 0:00:01\r\u001b[K     |███████████████████████████     | 235kB 6.8MB/s eta 0:00:01\r\u001b[K     |████████████████████████████▏   | 245kB 6.8MB/s eta 0:00:01\r\u001b[K     |█████████████████████████████▍  | 256kB 6.8MB/s eta 0:00:01\r\u001b[K     |██████████████████████████████▌ | 266kB 6.8MB/s eta 0:00:01\r\u001b[K     |███████████████████████████████▊| 276kB 6.8MB/s eta 0:00:01\r\u001b[K     |████████████████████████████████| 286kB 6.8MB/s \n",
            "\u001b[?25hRequirement already satisfied: torch>=1.6.0 in /usr/local/lib/python3.7/dist-packages (from kornia) (1.8.1+cu101)\n",
            "Requirement already satisfied: numpy in /usr/local/lib/python3.7/dist-packages (from kornia) (1.19.5)\n",
            "Requirement already satisfied: typing-extensions in /usr/local/lib/python3.7/dist-packages (from torch>=1.6.0->kornia) (3.7.4.3)\n",
            "Installing collected packages: kornia\n",
            "Successfully installed kornia-0.5.2\n"
          ],
          "name": "stdout"
        }
      ]
    },
    {
      "cell_type": "code",
      "metadata": {
        "id": "SqRueQOoTK87"
      },
      "source": [
        "%matplotlib inline\n",
        "import os\n",
        "import csv\n",
        "import time\n",
        "import matplotlib.pyplot as plt\n",
        "import torch\n",
        "import torch.nn as nn\n",
        "import torch.nn.functional as F\n",
        "import random\n",
        "import kornia.augmentation as K"
      ],
      "execution_count": 5,
      "outputs": []
    },
    {
      "cell_type": "code",
      "metadata": {
        "id": "qLw_BV-3TK87"
      },
      "source": [
        "DEVICE = torch.device('cuda:0' if torch.cuda.is_available() else 'cpu')\n",
        "datadir = '/ME/My Drive/Colab Notebooks/STATS_507/hw11/'"
      ],
      "execution_count": 6,
      "outputs": []
    },
    {
      "cell_type": "markdown",
      "metadata": {
        "id": "HO4--FCdTK87"
      },
      "source": [
        "## Data \n",
        "\n",
        "We have provided dataset with images of galaxies in `.pt` format (`pytorch` readable) consisting of the following files (included along this notebook in your Canvas download):\n",
        "\n",
        "- train.pt\n",
        "\n",
        "- valid.pt\n",
        "\n",
        "- test.pt \n",
        "\n",
        "The training file contains __10k__ images of simulated galaxies, the validation contains __10k__ galaxies, and testing contains __10k__ galaxies. Each image can contain anything between **0 and 6 galaxies**. Each image has dimensions __20x20__ pixels. \n",
        "\n",
        "The **goal** of your algorithm is to determine the number of galaxies in a given image. You can think of this problem as a classification problem: given an input image we classify it as 1 of the 7 classes (whether the image contains 0, 1, ..., 6 galaxies).\n",
        "\n",
        "**Note:** In total, we provided __20k__ images with the true labels which we split into the `train.pt` and `valid.pt` files provided above. Note that this separation of training and validation is ultimately up to you so you can change it if you want. "
      ]
    },
    {
      "cell_type": "markdown",
      "metadata": {
        "id": "NptV4iQWTK87"
      },
      "source": [
        "### Overview"
      ]
    },
    {
      "cell_type": "markdown",
      "metadata": {
        "id": "eFAWCfUzTK87"
      },
      "source": [
        "The __training set__ contains images and their true counts which can be accessed as follows: "
      ]
    },
    {
      "cell_type": "code",
      "metadata": {
        "colab": {
          "base_uri": "https://localhost:8080/"
        },
        "id": "v07_edE7TK87",
        "outputId": "d765b40f-f25c-4eb8-e7ae-1d4f550f8be9"
      },
      "source": [
        "train_data = torch.load(datadir+'18000train.pt')\n",
        "train_images = train_data['images']\n",
        "train_counts = train_data['counts']\n",
        "\n",
        "print(train_images.shape) # = (10000, 20, 20)\n",
        "print(train_counts.shape) # = (10000)"
      ],
      "execution_count": 7,
      "outputs": [
        {
          "output_type": "stream",
          "text": [
            "torch.Size([18000, 20, 20])\n",
            "torch.Size([18000])\n"
          ],
          "name": "stdout"
        }
      ]
    },
    {
      "cell_type": "code",
      "metadata": {
        "id": "DSDPBmWDTK87"
      },
      "source": [
        "SLEN = train_images.shape[-1]"
      ],
      "execution_count": 8,
      "outputs": []
    },
    {
      "cell_type": "markdown",
      "metadata": {
        "id": "zJ0CGXibTK87"
      },
      "source": [
        "To be explicit, let $i$ be an index satisfying $0 < i < 10,000$, then `train_counts[i]` corresponds to the number of galaxies in the 20-by-20 image `train_images[i]`. "
      ]
    },
    {
      "cell_type": "markdown",
      "metadata": {
        "id": "RfAzzahRTK87"
      },
      "source": [
        "Lets take a look at the first 4 images of galaxies to get an idea of what the data looks like and make sure you can load them correctly."
      ]
    },
    {
      "cell_type": "code",
      "metadata": {
        "colab": {
          "base_uri": "https://localhost:8080/",
          "height": 729
        },
        "id": "0wzBG0VjTK87",
        "outputId": "4fbfea54-ac31-4d06-b215-faf79aaebf2e"
      },
      "source": [
        "fig, axes = plt.subplots(3, 3, figsize=(10,10))\n",
        "axes = axes.flatten() # get a single dimensional array.\n",
        "k = 0\n",
        "for i in [random.randint(0,17999) for i in range(9)]:\n",
        "    ax = axes[k]\n",
        "    image = train_images[i].cpu().numpy()\n",
        "    count = train_counts[i].item()\n",
        "    ax.imshow(image, cmap='gray')\n",
        "    ax.set_xlabel(f\"Number of galaxies: {count}\")\n",
        "    k += 1\n",
        "plt.tight_layout()"
      ],
      "execution_count": 9,
      "outputs": [
        {
          "output_type": "display_data",
          "data": {
            "image/png": "[encoded data removed]",
            "text/plain": [
              "<Figure size 720x720 with 9 Axes>"
            ]
          },
          "metadata": {
            "tags": [],
            "needs_background": "light"
          }
        }
      ]
    },
    {
      "cell_type": "markdown",
      "metadata": {
        "id": "VlnhocgeTK87"
      },
      "source": [
        "The __testing set__ does not countain the counts of each image, your model will predict the counts and these will be evaluated in kaggle. You can access them like this:"
      ]
    },
    {
      "cell_type": "code",
      "metadata": {
        "colab": {
          "base_uri": "https://localhost:8080/"
        },
        "id": "jnZU1PIPTK87",
        "outputId": "2d0c2220-7c29-4fa1-d6c9-d3b6234307a0"
      },
      "source": [
        "test_set = torch.load(datadir+'test.pt')\n",
        "test_images = test_set['images'] \n",
        "assert 'count' not in test_set # does not include counts.\n",
        "print(test_images.shape) # = (10000, 20, 20)"
      ],
      "execution_count": 10,
      "outputs": [
        {
          "output_type": "stream",
          "text": [
            "torch.Size([10000, 20, 20])\n"
          ],
          "name": "stdout"
        }
      ]
    },
    {
      "cell_type": "markdown",
      "metadata": {
        "id": "C3Edx7flTK87"
      },
      "source": [
        "### Dataset and Dataloader\n",
        "\n",
        "What follows is a skeleton for a pytorch `Dataset` and corresponding `DataLoaders` that can be used to train and test the model. You can modify this base implementation if you want, but it's not necessary for completing the problem set."
      ]
    },
    {
      "cell_type": "code",
      "metadata": {
        "id": "XD8qSVYNVSyJ"
      },
      "source": [
        "# You can modify these attributes if you want.\n",
        "BATCH_SIZE = 720\n",
        "N_WORKERS = 2  # number of cpus used to load the data faster.\n",
        "assert N_WORKERS <= os.cpu_count(), \"Your computer does not have enough CPUs.\""
      ],
      "execution_count": 11,
      "outputs": []
    },
    {
      "cell_type": "code",
      "metadata": {
        "id": "6cZNpkowTK87"
      },
      "source": [
        "from torch.utils.data import Dataset, DataLoader\n",
        "\n",
        "class GalaxyDataset(Dataset):\n",
        "    \"\"\"Custom Dataset for loading Quickdraw images\"\"\"\n",
        "\n",
        "    def __init__(self, filepath, test=False):\n",
        "        self.data = torch.load(filepath)\n",
        "        self.images = self.data['images']\n",
        "        self.images = self.images.view(-1,400)\n",
        "        self.images = self.images / self.images.mean(axis=1).view(-1,1)\n",
        "        self.images = self.images.view(-1, 20, 20)\n",
        "        self.test = test\n",
        "    \n",
        "    def __len__(self):\n",
        "        return self.images.shape[0]\n",
        "\n",
        "    def __getitem__(self, idx):\n",
        "        \n",
        "        if self.test: \n",
        "            return {'images': self.images[idx]}\n",
        "        \n",
        "        else: \n",
        "            return {'images': self.images[idx], 'counts': self.data['counts'][idx]}"
      ],
      "execution_count": 12,
      "outputs": []
    },
    {
      "cell_type": "code",
      "metadata": {
        "id": "AkjZCykYTK87"
      },
      "source": [
        "# Define datasets and dataloaders. \n",
        "train_dataset = GalaxyDataset(datadir+'18000train.pt', test=False)\n",
        "valid_dataset = GalaxyDataset(datadir+'2000valid.pt', test=False)\n",
        "test_dataset = GalaxyDataset(datadir+'test.pt', test=True)\n",
        "\n",
        "\n",
        "\n",
        "train_loader = DataLoader(dataset=train_dataset,\n",
        "                          batch_size=BATCH_SIZE,\n",
        "                          shuffle=True,\n",
        "                          num_workers=N_WORKERS)\n",
        "valid_loader = DataLoader(dataset=valid_dataset,\n",
        "                          batch_size=BATCH_SIZE,\n",
        "                          shuffle=True,\n",
        "                          num_workers=N_WORKERS)\n",
        "test_loader = DataLoader(dataset=test_dataset,\n",
        "                         batch_size=BATCH_SIZE,\n",
        "                         shuffle=False,\n",
        "                         num_workers=N_WORKERS)"
      ],
      "execution_count": 13,
      "outputs": []
    },
    {
      "cell_type": "markdown",
      "metadata": {
        "id": "vATSrbXrTK87"
      },
      "source": [
        "## Utility functions"
      ]
    },
    {
      "cell_type": "code",
      "metadata": {
        "id": "OA38TaapCvEe"
      },
      "source": [
        "def compute_accuracy(model, data_loader):\n",
        "    \"\"\"\n",
        "    FOR CNN\n",
        "\n",
        "    Takes in your model and either the train_dataloader and valid_dataloader above. Calculate the accuracy of\n",
        "    your model in this dataset.\n",
        "\n",
        "    NOTE: As explained below it assumes your model has a .predict() method. \n",
        "    \"\"\"\n",
        "    assert not data_loader.dataset.test, \"Only works for train and valid dataloaders\"\n",
        "    assert hasattr(model, 'predict'), \"your model does not have a '.predict()' method.\"\n",
        "    correct_pred, n_examples = 0, 0\n",
        "    with torch.no_grad():\n",
        "        for batch in data_loader: \n",
        "            images = F.interpolate(batch['images'].view(-1,1,20,20), size=32).to(DEVICE)\n",
        "            true_counts = batch['counts'].to(DEVICE)\n",
        "            pred_counts = model.predict(images)\n",
        "            n_examples += true_counts.size(0)\n",
        "            correct_pred += (pred_counts == true_counts).sum()\n",
        "        return correct_pred.float()/n_examples"
      ],
      "execution_count": 14,
      "outputs": []
    },
    {
      "cell_type": "code",
      "metadata": {
        "id": "sD-rPZ1UTK87"
      },
      "source": [
        "def compute_epoch_loss(model, data_loader):\n",
        "    \"\"\"\n",
        "    Computes the loss of your model given a train or validation dataloader.   \n",
        "    \"\"\"\n",
        "    curr_loss, n_examples = 0., 0\n",
        "    with torch.no_grad():\n",
        "        for batch in data_loader:\n",
        "            images = F.interpolate(batch['images'].view(-1,1,20,20), size=32).to(DEVICE)\n",
        "            true_counts = batch['counts'].to(DEVICE)\n",
        "            logits, probs = model(images)\n",
        "            loss = F.cross_entropy(logits, true_counts, reduction='sum')\n",
        "            n_examples += true_counts.size(0)\n",
        "            curr_loss += loss.item()\n",
        "\n",
        "        curr_loss = curr_loss / n_examples\n",
        "        return curr_loss"
      ],
      "execution_count": 19,
      "outputs": []
    },
    {
      "cell_type": "markdown",
      "metadata": {
        "id": "kIGCJr0VTK87"
      },
      "source": [
        "## Your model\n",
        "\n",
        "### Implementation\n",
        "\n",
        "Here were provide a baseline model based on a multi-layer perceptron like the one you saw in HW10. You have complete flexibility in the final implementation, including training and how your compute your loss. \n",
        "\n",
        "**Note:** The only requirement to be able to test your model is that your class has a method `.predict()` that takes in images of shape `(N, 20, 20)` and returns an array of shape `(N)` containing the prediction for the number of galaxies in each of the images. "
      ]
    },
    {
      "cell_type": "code",
      "metadata": {
        "id": "2aERhoZVgGjR"
      },
      "source": [
        "class CNN(nn.Module):\n",
        "    def __init__(self):\n",
        "        super(CNN, self).__init__()\n",
        "        self.conv1 = nn.Conv2d(1, 64, kernel_size=5, padding=2)\n",
        "        self.conv2 = nn.Conv2d(64, 64, kernel_size=5, padding=2)\n",
        "        self.conv3 = nn.Conv2d(64, 128, kernel_size=5, padding=2)\n",
        "        self.conv4 = nn.Conv2d(128, 128, kernel_size=3, padding=1)\n",
        "        self.conv5 = nn.Conv2d(128, 128, kernel_size=3, padding=1)\n",
        "        self.conv6 = nn.Conv2d(128, 256, kernel_size=3, padding=1)\n",
        "        self.conv7 = nn.Conv2d(256, 256, kernel_size=3, padding=1)\n",
        "        self.conv8 = nn.Conv2d(256, 256, kernel_size=3, padding=1)\n",
        "        self.conv9 = nn.Conv2d(256, 512, kernel_size=3, padding=1)\n",
        "        self.conv10 = nn.Conv2d(512, 512, kernel_size=3, padding=1)\n",
        "        self.conv11 = nn.Conv2d(512, 512, kernel_size=3, padding=1)\n",
        "        self.fc1 = nn.Linear(8192, 2056)\n",
        "        self.fc2 = nn.Linear(2056, 2056)\n",
        "        self.fc3 = nn.Linear(2056, 7)\n",
        "        self.drop = nn.Dropout(p=0.5)\n",
        "        \n",
        "    def forward(self, x):\n",
        "        x = F.relu(self.conv1(x))\n",
        "        x = F.relu(self.conv2(x))\n",
        "        x = F.relu(F.max_pool2d(self.conv3(x), 2))\n",
        "        x = F.relu(self.conv4(x))\n",
        "        x = F.relu(self.conv5(x))\n",
        "        x = F.relu(F.max_pool2d(self.conv6(x), 2))\n",
        "        x = F.relu(self.conv7(x))\n",
        "        x = F.relu(self.conv8(x))\n",
        "        x = F.relu(F.max_pool2d(self.conv9(x), 2))\n",
        "        x = F.relu(self.conv10(x))\n",
        "        x = F.relu(self.conv11(x))\n",
        "        x = x.view(-1, 8192)\n",
        "        x = F.relu(self.drop(self.fc1(x)))\n",
        "        x = F.relu(self.drop(self.fc2(x)))\n",
        "        x = self.fc3(x)\n",
        "        return x, F.softmax(x, dim=1)\n",
        "    \n",
        "    def predict(self, x):\n",
        "        logits, probs = self(x)\n",
        "        return probs.argmax(axis=1).int()"
      ],
      "execution_count": 15,
      "outputs": []
    },
    {
      "cell_type": "markdown",
      "metadata": {
        "id": "wg3lzDsyTK87"
      },
      "source": [
        "## Training\n",
        "\n",
        "Depending on how much you changed your architecture, your training procedure might change. If you are still using a MLP it's very likely you can keep the same training procedure. \n",
        "\n",
        "You can also modify the number of epochs below, as an input argument to `run_training`."
      ]
    },
    {
      "cell_type": "code",
      "metadata": {
        "id": "DBXaUFj_uiSh"
      },
      "source": [
        "# Data augmentation\n",
        "transform = nn.Sequential(\n",
        "    K.RandomHorizontalFlip(),\n",
        "    K.RandomVerticalFlip()\n",
        ")"
      ],
      "execution_count": 16,
      "outputs": []
    },
    {
      "cell_type": "code",
      "metadata": {
        "id": "aFK9s7SbTK87"
      },
      "source": [
        "def run_training(model, train_loader, valid_loader, n_epochs=10):\n",
        "    start_time = time.time()\n",
        "    epoch_loss = [] \n",
        "    for epoch in range(n_epochs):\n",
        "        model.train()\n",
        "        for batch_idx, batch in enumerate(train_loader):\n",
        "            images = transform(F.interpolate(batch['images'].view(-1,1,20,20), 32))\n",
        "            images = images.to(DEVICE)\n",
        "            true_counts = batch['counts'].to(DEVICE)\n",
        "\n",
        "\n",
        "            # FORWARD AND BACK PROP\n",
        "            logits, probs = model(images)\n",
        "            cost = F.cross_entropy(logits, true_counts)\n",
        "            optimizer.zero_grad()\n",
        "            cost.backward()\n",
        "            optimizer.step()\n",
        "\n",
        "            # LOGGING\n",
        "            if not batch_idx % 50:\n",
        "                print('Epoch: %03d/%03d | Batch %03d/%03d | Cost: %.4f'\n",
        "                      % (epoch+1, n_epochs, batch_idx,\n",
        "                         len(train_loader), cost))\n",
        "\n",
        "        # we evaluate our model after each epoch.\n",
        "        model.eval()\n",
        "        cost = compute_epoch_loss(model, train_loader)\n",
        "        epoch_loss.append(cost)\n",
        "\n",
        "        train_accuracy = compute_accuracy(model, train_loader)\n",
        "        valid_accuracy = compute_accuracy(model, valid_loader)\n",
        "\n",
        "        print('Epoch: %03d/%03d Train Cost: %.4f' % (\n",
        "                epoch+1, n_epochs, cost))\n",
        "        print('Train Accuracy: %.3f | Validation Accuracy: %.3f'\n",
        "              % (train_accuracy, valid_accuracy))\n",
        "        print('Time elapsed: %.2f min' % ((time.time() - start_time)/60))\n",
        "\n",
        "    print('Total Training Time: %.2f min' % ((time.time() - start_time)/60))\n",
        "    return train_accuracy, valid_accuracy, epoch_loss"
      ],
      "execution_count": 17,
      "outputs": []
    },
    {
      "cell_type": "code",
      "metadata": {
        "colab": {
          "base_uri": "https://localhost:8080/"
        },
        "id": "SzKaGNEhTK87",
        "outputId": "43d733fb-1046-4d1b-e776-b7498a6b9806"
      },
      "source": [
        "N_EPOCHS = 40\n",
        "model = CNN().to(DEVICE)\n",
        "optimizer = torch.optim.Adam(model.parameters(), lr=0.0003)\n",
        "\n",
        "train_accuracy, valid_accuracy, epoch_loss = run_training(model, train_loader, valid_loader, n_epochs=N_EPOCHS)"
      ],
      "execution_count": 20,
      "outputs": [
        {
          "output_type": "stream",
          "text": [
            "Epoch: 001/040 | Batch 000/025 | Cost: 1.9447\n",
            "Epoch: 001/040 Train Cost: 1.7948\n",
            "Train Accuracy: 0.219 | Validation Accuracy: 0.226\n",
            "Time elapsed: 0.34 min\n",
            "Epoch: 002/040 | Batch 000/025 | Cost: 1.7804\n",
            "Epoch: 002/040 Train Cost: 1.5844\n",
            "Train Accuracy: 0.428 | Validation Accuracy: 0.421\n",
            "Time elapsed: 0.68 min\n",
            "Epoch: 003/040 | Batch 000/025 | Cost: 1.6084\n",
            "Epoch: 003/040 Train Cost: 1.6525\n",
            "Train Accuracy: 0.270 | Validation Accuracy: 0.275\n",
            "Time elapsed: 1.03 min\n",
            "Epoch: 004/040 | Batch 000/025 | Cost: 1.6710\n",
            "Epoch: 004/040 Train Cost: 1.6337\n",
            "Train Accuracy: 0.284 | Validation Accuracy: 0.298\n",
            "Time elapsed: 1.37 min\n",
            "Epoch: 005/040 | Batch 000/025 | Cost: 1.6728\n",
            "Epoch: 005/040 Train Cost: 1.8010\n",
            "Train Accuracy: 0.219 | Validation Accuracy: 0.226\n",
            "Time elapsed: 1.71 min\n",
            "Epoch: 006/040 | Batch 000/025 | Cost: 1.8214\n",
            "Epoch: 006/040 Train Cost: 1.6603\n",
            "Train Accuracy: 0.317 | Validation Accuracy: 0.312\n",
            "Time elapsed: 2.05 min\n",
            "Epoch: 007/040 | Batch 000/025 | Cost: 1.6546\n",
            "Epoch: 007/040 Train Cost: 1.2868\n",
            "Train Accuracy: 0.467 | Validation Accuracy: 0.483\n",
            "Time elapsed: 2.40 min\n",
            "Epoch: 008/040 | Batch 000/025 | Cost: 1.3009\n",
            "Epoch: 008/040 Train Cost: 1.0083\n",
            "Train Accuracy: 0.510 | Validation Accuracy: 0.524\n",
            "Time elapsed: 2.74 min\n",
            "Epoch: 009/040 | Batch 000/025 | Cost: 1.0504\n",
            "Epoch: 009/040 Train Cost: 0.7799\n",
            "Train Accuracy: 0.671 | Validation Accuracy: 0.683\n",
            "Time elapsed: 3.08 min\n",
            "Epoch: 010/040 | Batch 000/025 | Cost: 0.8358\n",
            "Epoch: 010/040 Train Cost: 0.6784\n",
            "Train Accuracy: 0.697 | Validation Accuracy: 0.707\n",
            "Time elapsed: 3.42 min\n",
            "Epoch: 011/040 | Batch 000/025 | Cost: 0.6959\n",
            "Epoch: 011/040 Train Cost: 0.6870\n",
            "Train Accuracy: 0.695 | Validation Accuracy: 0.713\n",
            "Time elapsed: 3.76 min\n",
            "Epoch: 012/040 | Batch 000/025 | Cost: 0.6728\n",
            "Epoch: 012/040 Train Cost: 0.6526\n",
            "Train Accuracy: 0.717 | Validation Accuracy: 0.720\n",
            "Time elapsed: 4.11 min\n",
            "Epoch: 013/040 | Batch 000/025 | Cost: 0.6542\n",
            "Epoch: 013/040 Train Cost: 0.5839\n",
            "Train Accuracy: 0.744 | Validation Accuracy: 0.753\n",
            "Time elapsed: 4.45 min\n",
            "Epoch: 014/040 | Batch 000/025 | Cost: 0.5745\n",
            "Epoch: 014/040 Train Cost: 0.5290\n",
            "Train Accuracy: 0.771 | Validation Accuracy: 0.798\n",
            "Time elapsed: 4.79 min\n",
            "Epoch: 015/040 | Batch 000/025 | Cost: 0.5277\n",
            "Epoch: 015/040 Train Cost: 0.5070\n",
            "Train Accuracy: 0.781 | Validation Accuracy: 0.809\n",
            "Time elapsed: 5.13 min\n",
            "Epoch: 016/040 | Batch 000/025 | Cost: 0.5920\n",
            "Epoch: 016/040 Train Cost: 0.4819\n",
            "Train Accuracy: 0.789 | Validation Accuracy: 0.809\n",
            "Time elapsed: 5.47 min\n",
            "Epoch: 017/040 | Batch 000/025 | Cost: 0.5235\n",
            "Epoch: 017/040 Train Cost: 0.5550\n",
            "Train Accuracy: 0.754 | Validation Accuracy: 0.756\n",
            "Time elapsed: 5.82 min\n",
            "Epoch: 018/040 | Batch 000/025 | Cost: 0.5723\n",
            "Epoch: 018/040 Train Cost: 0.4905\n",
            "Train Accuracy: 0.785 | Validation Accuracy: 0.796\n",
            "Time elapsed: 6.16 min\n",
            "Epoch: 019/040 | Batch 000/025 | Cost: 0.5121\n",
            "Epoch: 019/040 Train Cost: 0.4460\n",
            "Train Accuracy: 0.807 | Validation Accuracy: 0.824\n",
            "Time elapsed: 6.50 min\n",
            "Epoch: 020/040 | Batch 000/025 | Cost: 0.4761\n",
            "Epoch: 020/040 Train Cost: 0.4988\n",
            "Train Accuracy: 0.788 | Validation Accuracy: 0.799\n",
            "Time elapsed: 6.85 min\n",
            "Epoch: 021/040 | Batch 000/025 | Cost: 0.4980\n",
            "Epoch: 021/040 Train Cost: 0.4891\n",
            "Train Accuracy: 0.788 | Validation Accuracy: 0.798\n",
            "Time elapsed: 7.19 min\n",
            "Epoch: 022/040 | Batch 000/025 | Cost: 0.4946\n",
            "Epoch: 022/040 Train Cost: 0.4133\n",
            "Train Accuracy: 0.823 | Validation Accuracy: 0.836\n",
            "Time elapsed: 7.54 min\n",
            "Epoch: 023/040 | Batch 000/025 | Cost: 0.4315\n",
            "Epoch: 023/040 Train Cost: 0.4444\n",
            "Train Accuracy: 0.816 | Validation Accuracy: 0.824\n",
            "Time elapsed: 7.88 min\n",
            "Epoch: 024/040 | Batch 000/025 | Cost: 0.4792\n",
            "Epoch: 024/040 Train Cost: 0.3952\n",
            "Train Accuracy: 0.835 | Validation Accuracy: 0.847\n",
            "Time elapsed: 8.23 min\n",
            "Epoch: 025/040 | Batch 000/025 | Cost: 0.4101\n",
            "Epoch: 025/040 Train Cost: 0.3670\n",
            "Train Accuracy: 0.845 | Validation Accuracy: 0.854\n",
            "Time elapsed: 8.57 min\n",
            "Epoch: 026/040 | Batch 000/025 | Cost: 0.3675\n",
            "Epoch: 026/040 Train Cost: 0.4055\n",
            "Train Accuracy: 0.827 | Validation Accuracy: 0.832\n",
            "Time elapsed: 8.91 min\n",
            "Epoch: 027/040 | Batch 000/025 | Cost: 0.4206\n",
            "Epoch: 027/040 Train Cost: 0.4144\n",
            "Train Accuracy: 0.821 | Validation Accuracy: 0.834\n",
            "Time elapsed: 9.26 min\n",
            "Epoch: 028/040 | Batch 000/025 | Cost: 0.4261\n",
            "Epoch: 028/040 Train Cost: 0.3459\n",
            "Train Accuracy: 0.857 | Validation Accuracy: 0.861\n",
            "Time elapsed: 9.60 min\n",
            "Epoch: 029/040 | Batch 000/025 | Cost: 0.3845\n",
            "Epoch: 029/040 Train Cost: 0.3446\n",
            "Train Accuracy: 0.855 | Validation Accuracy: 0.866\n",
            "Time elapsed: 9.95 min\n",
            "Epoch: 030/040 | Batch 000/025 | Cost: 0.3649\n",
            "Epoch: 030/040 Train Cost: 0.3748\n",
            "Train Accuracy: 0.839 | Validation Accuracy: 0.852\n",
            "Time elapsed: 10.29 min\n",
            "Epoch: 031/040 | Batch 000/025 | Cost: 0.3661\n",
            "Epoch: 031/040 Train Cost: 0.3377\n",
            "Train Accuracy: 0.861 | Validation Accuracy: 0.864\n",
            "Time elapsed: 10.64 min\n",
            "Epoch: 032/040 | Batch 000/025 | Cost: 0.3548\n",
            "Epoch: 032/040 Train Cost: 0.3813\n",
            "Train Accuracy: 0.839 | Validation Accuracy: 0.841\n",
            "Time elapsed: 10.98 min\n",
            "Epoch: 033/040 | Batch 000/025 | Cost: 0.3550\n",
            "Epoch: 033/040 Train Cost: 0.3397\n",
            "Train Accuracy: 0.857 | Validation Accuracy: 0.861\n",
            "Time elapsed: 11.32 min\n",
            "Epoch: 034/040 | Batch 000/025 | Cost: 0.3303\n",
            "Epoch: 034/040 Train Cost: 0.3155\n",
            "Train Accuracy: 0.870 | Validation Accuracy: 0.868\n",
            "Time elapsed: 11.67 min\n",
            "Epoch: 035/040 | Batch 000/025 | Cost: 0.3214\n",
            "Epoch: 035/040 Train Cost: 0.3026\n",
            "Train Accuracy: 0.875 | Validation Accuracy: 0.883\n",
            "Time elapsed: 12.01 min\n",
            "Epoch: 036/040 | Batch 000/025 | Cost: 0.3004\n",
            "Epoch: 036/040 Train Cost: 0.3570\n",
            "Train Accuracy: 0.853 | Validation Accuracy: 0.853\n",
            "Time elapsed: 12.36 min\n",
            "Epoch: 037/040 | Batch 000/025 | Cost: 0.3739\n",
            "Epoch: 037/040 Train Cost: 0.2885\n",
            "Train Accuracy: 0.884 | Validation Accuracy: 0.881\n",
            "Time elapsed: 12.71 min\n",
            "Epoch: 038/040 | Batch 000/025 | Cost: 0.3115\n",
            "Epoch: 038/040 Train Cost: 0.2814\n",
            "Train Accuracy: 0.887 | Validation Accuracy: 0.885\n",
            "Time elapsed: 13.05 min\n",
            "Epoch: 039/040 | Batch 000/025 | Cost: 0.3089\n",
            "Epoch: 039/040 Train Cost: 0.3271\n",
            "Train Accuracy: 0.861 | Validation Accuracy: 0.868\n",
            "Time elapsed: 13.40 min\n",
            "Epoch: 040/040 | Batch 000/025 | Cost: 0.3584\n",
            "Epoch: 040/040 Train Cost: 0.3391\n",
            "Train Accuracy: 0.865 | Validation Accuracy: 0.870\n",
            "Time elapsed: 13.74 min\n",
            "Total Training Time: 13.74 min\n"
          ],
          "name": "stdout"
        }
      ]
    },
    {
      "cell_type": "markdown",
      "metadata": {
        "id": "m_kSjWTLTK87"
      },
      "source": [
        "### Loss function\n",
        "\n",
        "Here is a plot showing your loss as a function of epoch which can be used to see if your model is being optimized correctly. This could also help you decide if e.g. **early stopping** might be helpful. "
      ]
    },
    {
      "cell_type": "code",
      "metadata": {
        "colab": {
          "base_uri": "https://localhost:8080/",
          "height": 279
        },
        "id": "2Gu7zAqETK87",
        "outputId": "ec769d1b-46f8-4f22-80c9-74e1fc201345"
      },
      "source": [
        "plt.plot(range(len(epoch_loss)), epoch_loss)\n",
        "plt.ylabel('Loss')\n",
        "plt.xlabel('Epoch')\n",
        "plt.show()"
      ],
      "execution_count": 21,
      "outputs": [
        {
          "output_type": "display_data",
          "data": {
            "image/png": "[encoded data removed]",
            "text/plain": [
              "<Figure size 432x288 with 1 Axes>"
            ]
          },
          "metadata": {
            "tags": [],
            "needs_background": "light"
          }
        }
      ]
    },
    {
      "cell_type": "markdown",
      "metadata": {
        "id": "H6Cz2zRXTK87"
      },
      "source": [
        "## Testing \n",
        "\n",
        "Once you trained your `model`, you are ready to try it out in the `test_images`. Even though we don't provide the true counts for the test images, you can inspect some by eye if you want. \n",
        "\n",
        "**WARNING:** Do not modify the order of `my_counts` otherwise your submission to kaggle will be wrong. "
      ]
    },
    {
      "cell_type": "code",
      "metadata": {
        "id": "pixYtU3BTK87"
      },
      "source": [
        "my_counts = torch.zeros(0).to(DEVICE)\n",
        "for batch in test_loader:\n",
        "    test_pred = model.predict(F.interpolate(batch['images'].view(-1,1,20,20), size=32).to(DEVICE))\n",
        "    my_counts = torch.cat((my_counts, test_pred), 0)"
      ],
      "execution_count": null,
      "outputs": []
    },
    {
      "cell_type": "markdown",
      "metadata": {
        "id": "bgEDjuSzTK87"
      },
      "source": [
        "## Submission (20 points) \n",
        "\n",
        "Once you are satisfied with your model and your predictions, you are ready to submit to [kaggle](https://www.kaggle.com/c/galaxy-detection-challenge). We provide the function `counts_to_csv` that automatically takes in your prediction for the test set and creates a CSV file that you can upload to kaggle for your submission. This file will be created in the same directory as your notebook."
      ]
    },
    {
      "cell_type": "code",
      "metadata": {
        "id": "ttBZ5YojTK87"
      },
      "source": [
        "import csv\n",
        "def counts_to_csv(uniqid, counts):\n",
        "    assert len(counts.shape) == 1, \"Incorrect format for counts.\"\n",
        "    assert counts.shape[0] == 10000, \"Incorrect format for counts.\"\n",
        "    with open(f'{datadir}{uniqid}.csv', 'w', newline='') as fp: \n",
        "        writer = csv.writer(fp)\n",
        "        writer.writerow(['ID', 'Category'])\n",
        "        for i, c in enumerate(counts):\n",
        "            writer.writerow([str(i), str(int(c.item()))])"
      ],
      "execution_count": null,
      "outputs": []
    },
    {
      "cell_type": "code",
      "metadata": {
        "id": "KEKomFOTTK87"
      },
      "source": [
        "# Please enter your uniqID below\n",
        "your_uniqid = 'zhuoxunj'"
      ],
      "execution_count": null,
      "outputs": []
    },
    {
      "cell_type": "code",
      "metadata": {
        "id": "U62hQ_n1TK87"
      },
      "source": [
        "counts_to_csv(your_uniqid, my_counts) # creates a file in your current directory called `UNIQID.csv`."
      ],
      "execution_count": null,
      "outputs": []
    },
    {
      "cell_type": "markdown",
      "metadata": {
        "id": "k_8REFDjTK87"
      },
      "source": [
        "## Conclusion (20 points)"
      ]
    },
    {
      "cell_type": "markdown",
      "metadata": {
        "id": "_4iTUthHTK88"
      },
      "source": [
        "In the cell below, please describe the approach you took in designing your algorithm and the choices that went into this design. Your answer should be detailed and will be significantly weighted in determining your final grade. Your answer might include but is not limited to the following points: \n",
        "\n",
        "- What type of neural network architecture did you use? (CNN, MLP, ResNet, etc.) How many layers did you use? How many units in each layer? How did you initialize your neural network? What optimizer did you use? \n",
        "\n",
        "- What challenges did you encounter as you were doing this problem set? How did you overcome these obstacles?\n",
        "\n",
        "- Please explain your overall design and the choices behind it as much as possible (this can include your thought process). \n",
        "\n",
        "- How many different designs did you try? How did you settle on your final design?\n",
        "\n",
        "- If you used external resources to get any ideas for your solution, please describe these too."
      ]
    },
    {
      "cell_type": "markdown",
      "metadata": {
        "id": "n6OcPr3nTK88"
      },
      "source": [
        "I used a CNN architecture that was inspired by VGG16. I have 10 convolutional layers and 3 fully connected layers. I also resized the images to 32x32 to improve accuracy. The number of units in the convolutional layers doubled after every pooling layer. The parameters were initialized randomly and I used the Adam optimizer.\n",
        "\n",
        "The biggest challenge in this data set was tuning the hyperparameters like learning rate, units per layer, batch size, etc. Also I had to figure out how many layers I wanted in the CNN. These obstacles largely came down to trial and error. I would run the training algorithm and see what the validation accuracy is. If I see a lot of overfitting, I would restrict the CNN, if I see that training accuracy could be improved, I would expand the CNN. \n",
        "\n",
        "The architecture of the CNN is inspired from the VGG16 networks. In the end, I settled for a CNN with 10 convolutional layers, 3 max pooling layers, and 3 fully connected layers. I wanted to do a CNN because it allows the model to detect spatial relations, which you don't get with a MLP. I resized the image to 32x32 so I can make the CNN deeper and have more max pooling layers without down sampling too much. I included dropout to the fully connected layers to avoid overfitting. To further improve overfitting, I implemented data augmentation. Each image could be flipped horizontally and vertically. I decided on these transformations because they produce similar looking images, which gives the model more data to train from. When it comes to training the model, I would run it for 30 epochs on one learning rate and then run it again at smaller learning rates until the model converges. This was done manually until I get the best validation accuracy I could.\n",
        "\n",
        "I wanted to do a CNN right from the beginning, so the different designs I did were all variations of a CNN. At one point, I resized the image to 64x64 but thought that the training process was too long so I settle for resizing the 32x32. Architecture-wise, I started shallow and got deeper to improve performance. Due to the small size of these pictures, you can only go so deep before the down-sampling from the pooling layers becomes too much. So I went about as deep as I could, settling at 10 convolutional layers.\n",
        "\n",
        "Like I said, a lot of my design decisions are inspired by VGG16. Here is a link to a website that explains the design: https://neurohive.io/en/popular-networks/vgg16/.\n",
        "\n"
      ]
    }
  ]
}